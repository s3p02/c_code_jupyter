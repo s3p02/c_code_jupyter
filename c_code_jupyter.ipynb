{
 "cells": [
  {
   "cell_type": "markdown",
   "metadata": {},
   "source": [
    "v.01"
   ]
  },
  {
   "cell_type": "code",
   "execution_count": 24,
   "metadata": {
    "collapsed": false
   },
   "outputs": [
    {
     "data": {
      "image/png": "[encoded data removed]",
      "text/plain": [
       "<IPython.core.display.Image object>"
      ]
     },
     "execution_count": 24,
     "metadata": {
      "image/png": {
       "height": 300,
       "width": 300
      }
     },
     "output_type": "execute_result"
    }
   ],
   "source": [
    "from IPython.display import Image\n",
    "Image(\"http://cse.ucdenver.edu/~tamvu/images/cudenver.png\",width=300, height=300)"
   ]
  },
  {
   "cell_type": "markdown",
   "metadata": {},
   "source": [
    "Author : SREE SAI SHARAN PANTANGI"
   ]
  },
  {
   "cell_type": "markdown",
   "metadata": {},
   "source": [
    "Graduate Research Assistant for Dr. Dan Connors, Department of Electrical Engineering, University of Colorado Denver"
   ]
  },
  {
   "cell_type": "markdown",
   "metadata": {},
   "source": [
    "This tutorial is to write, save and run c code using jupyter notebook. I will demonstrate a simple Hello World! c program. I will also discuss a few shell commands, that can be run using jupyter notebooks."
   ]
  },
  {
   "cell_type": "markdown",
   "metadata": {},
   "source": [
    "Using '!', we can run UNIX shell commands from the Jupyter notebook"
   ]
  },
  {
   "cell_type": "markdown",
   "metadata": {},
   "source": [
    "First way of doing this is to echo every single line of code to a file named hello.c"
   ]
  },
  {
   "cell_type": "markdown",
   "metadata": {},
   "source": [
    "We save whatever we echo into a new line i.e. we append every echo shell command to our .c file"
   ]
  },
  {
   "cell_type": "code",
   "execution_count": 1,
   "metadata": {
    "collapsed": true
   },
   "outputs": [],
   "source": [
    "!echo '#include <stdio.h>'>>hello.c"
   ]
  },
  {
   "cell_type": "code",
   "execution_count": 2,
   "metadata": {
    "collapsed": true
   },
   "outputs": [],
   "source": [
    "!echo 'int main(int argc, const char * argv[]) {'>>hello.c"
   ]
  },
  {
   "cell_type": "code",
   "execution_count": 3,
   "metadata": {
    "collapsed": true
   },
   "outputs": [],
   "source": [
    "!echo 'printf(\"Hello, World!\");'>>hello.c"
   ]
  },
  {
   "cell_type": "code",
   "execution_count": 4,
   "metadata": {
    "collapsed": true
   },
   "outputs": [],
   "source": [
    "!echo '    return 0;'>>hello.c"
   ]
  },
  {
   "cell_type": "code",
   "execution_count": 5,
   "metadata": {
    "collapsed": true
   },
   "outputs": [],
   "source": [
    "!echo '}'>>hello.c"
   ]
  },
  {
   "cell_type": "code",
   "execution_count": 6,
   "metadata": {
    "collapsed": false
   },
   "outputs": [
    {
     "name": "stdout",
     "output_type": "stream",
     "text": [
      "#include <stdio.h>\r\n",
      "int main(int argc, const char * argv[]) {\r\n",
      "printf(\"Hello, World!\");\r\n",
      "    return 0;\r\n",
      "}\r\n"
     ]
    }
   ],
   "source": [
    "!cat hello.c"
   ]
  },
  {
   "cell_type": "markdown",
   "metadata": {},
   "source": [
    " "
   ]
  },
  {
   "cell_type": "markdown",
   "metadata": {},
   "source": [
    "We use the 'cat' shell command to view contents of our file"
   ]
  },
  {
   "cell_type": "markdown",
   "metadata": {},
   "source": [
    "We use the gcc compiler with the flag -o followed by the name of our executable 'hello' followed by our .c file 'hello.c'"
   ]
  },
  {
   "cell_type": "code",
   "execution_count": 7,
   "metadata": {
    "collapsed": true
   },
   "outputs": [],
   "source": [
    "!gcc -o hello hello.c"
   ]
  },
  {
   "cell_type": "markdown",
   "metadata": {},
   "source": [
    "    "
   ]
  },
  {
   "cell_type": "markdown",
   "metadata": {},
   "source": [
    "We run our executable the following way"
   ]
  },
  {
   "cell_type": "code",
   "execution_count": 8,
   "metadata": {
    "collapsed": false
   },
   "outputs": [
    {
     "name": "stdout",
     "output_type": "stream",
     "text": [
      "Hello, World!"
     ]
    }
   ],
   "source": [
    "!./hello"
   ]
  },
  {
   "cell_type": "markdown",
   "metadata": {},
   "source": [
    " "
   ]
  },
  {
   "cell_type": "markdown",
   "metadata": {},
   "source": [
    "Similarly we may write our entire code into a single variable, 'code'. Note that we need to have a '\\n' for every single line of c code to be saved line-by-line into the .c file or jupyter will throw an error."
   ]
  },
  {
   "cell_type": "code",
   "execution_count": 9,
   "metadata": {
    "collapsed": false
   },
   "outputs": [],
   "source": [
    "code='#include <stdio.h> \\n int main(int argc, const char * argv[]) {    \\n printf(\"Hello, World!\"); \\n return 0; \\n }'"
   ]
  },
  {
   "cell_type": "code",
   "execution_count": 10,
   "metadata": {
    "collapsed": false
   },
   "outputs": [
    {
     "name": "stdout",
     "output_type": "stream",
     "text": [
      "#include <stdio.h> \r\n",
      " int main(int argc, const char * argv[]) {    \r\n",
      " printf(\"Hello, World!\"); \r\n",
      " return 0; \r\n",
      " }\r\n"
     ]
    }
   ],
   "source": [
    "!echo '$code'"
   ]
  },
  {
   "cell_type": "markdown",
   "metadata": {},
   "source": [
    "We use the $ sign before calling our variable 'code' in single quotes '' before appending >> to a file named 'hello_1.c'"
   ]
  },
  {
   "cell_type": "code",
   "execution_count": 11,
   "metadata": {
    "collapsed": true
   },
   "outputs": [],
   "source": [
    "!echo '$code'>>hello_1.c"
   ]
  },
  {
   "cell_type": "code",
   "execution_count": 12,
   "metadata": {
    "collapsed": false
   },
   "outputs": [
    {
     "name": "stdout",
     "output_type": "stream",
     "text": [
      "#include <stdio.h> \r\n",
      " int main(int argc, const char * argv[]) {    \r\n",
      " printf(\"Hello, World!\"); \r\n",
      " return 0; \r\n",
      " }\r\n"
     ]
    }
   ],
   "source": [
    "!cat hello_1.c"
   ]
  },
  {
   "cell_type": "code",
   "execution_count": 13,
   "metadata": {
    "collapsed": false
   },
   "outputs": [],
   "source": [
    "!gcc -o hello_1 hello_1.c"
   ]
  },
  {
   "cell_type": "code",
   "execution_count": 14,
   "metadata": {
    "collapsed": false
   },
   "outputs": [
    {
     "name": "stdout",
     "output_type": "stream",
     "text": [
      "Hello, World!"
     ]
    }
   ],
   "source": [
    "!./hello_1"
   ]
  },
  {
   "cell_type": "markdown",
   "metadata": {},
   "source": [
    "To list out the files in our directory we use the 'ls' shell command."
   ]
  },
  {
   "cell_type": "code",
   "execution_count": 15,
   "metadata": {
    "collapsed": false
   },
   "outputs": [
    {
     "name": "stdout",
     "output_type": "stream",
     "text": [
      "c_code_jupyter.ipynb hello.c              hello_1.c\r\n",
      "\u001b[31mhello\u001b[m\u001b[m                \u001b[31mhello_1\u001b[m\u001b[m\r\n"
     ]
    }
   ],
   "source": [
    "!ls"
   ]
  },
  {
   "cell_type": "markdown",
   "metadata": {},
   "source": [
    "To remove any file we use 'rm' shell command. We are using a combination of 2 flags, '-r' which will recursively delete a directory and all its contents (normally rm will not delete directories and '-f' will forcibly delete files without asking. We are going to remove hello_1.c file by running the following command:"
   ]
  },
  {
   "cell_type": "code",
   "execution_count": 16,
   "metadata": {
    "collapsed": true
   },
   "outputs": [],
   "source": [
    "!rm -rf hello_1.c"
   ]
  },
  {
   "cell_type": "code",
   "execution_count": 17,
   "metadata": {
    "collapsed": false
   },
   "outputs": [
    {
     "name": "stdout",
     "output_type": "stream",
     "text": [
      "c_code_jupyter.ipynb hello.c\r\n",
      "\u001b[31mhello\u001b[m\u001b[m                \u001b[31mhello_1\u001b[m\u001b[m\r\n"
     ]
    }
   ],
   "source": [
    "!ls"
   ]
  },
  {
   "cell_type": "markdown",
   "metadata": {},
   "source": [
    "We notice that the hello_1.c file no longer exists. Since we created this file using the variable 'code', containing all the code in a single line, we may run the following again to create the file again."
   ]
  },
  {
   "cell_type": "code",
   "execution_count": 18,
   "metadata": {
    "collapsed": true
   },
   "outputs": [],
   "source": [
    "!echo '$code'>>hello_1.c"
   ]
  },
  {
   "cell_type": "markdown",
   "metadata": {},
   "source": [
    " "
   ]
  },
  {
   "cell_type": "code",
   "execution_count": 19,
   "metadata": {
    "collapsed": false
   },
   "outputs": [
    {
     "name": "stdout",
     "output_type": "stream",
     "text": [
      "c_code_jupyter.ipynb hello.c              hello_1.c\r\n",
      "\u001b[31mhello\u001b[m\u001b[m                \u001b[31mhello_1\u001b[m\u001b[m\r\n"
     ]
    }
   ],
   "source": [
    "!ls"
   ]
  },
  {
   "cell_type": "markdown",
   "metadata": {},
   "source": [
    " "
   ]
  },
  {
   "cell_type": "markdown",
   "metadata": {},
   "source": [
    "We can remove multiple files, lets remove our executables 'hello' and 'hello_1' "
   ]
  },
  {
   "cell_type": "code",
   "execution_count": 20,
   "metadata": {
    "collapsed": true
   },
   "outputs": [],
   "source": [
    "!rm -rf hello hello_1"
   ]
  },
  {
   "cell_type": "markdown",
   "metadata": {},
   "source": [
    " "
   ]
  },
  {
   "cell_type": "code",
   "execution_count": 21,
   "metadata": {
    "collapsed": false
   },
   "outputs": [
    {
     "name": "stdout",
     "output_type": "stream",
     "text": [
      "c_code_jupyter.ipynb hello.c              hello_1.c\r\n"
     ]
    }
   ],
   "source": [
    "!ls"
   ]
  },
  {
   "cell_type": "markdown",
   "metadata": {},
   "source": [
    "We notice that the hello_1 and hello executable files no longer exists."
   ]
  },
  {
   "cell_type": "markdown",
   "metadata": {},
   "source": [
    "To remove all .c files we can us a wildcard '*' followed by the file type '.c'. We shall remove all .c files by running the following:"
   ]
  },
  {
   "cell_type": "code",
   "execution_count": 22,
   "metadata": {
    "collapsed": true
   },
   "outputs": [],
   "source": [
    "!rm -rf *.c"
   ]
  },
  {
   "cell_type": "code",
   "execution_count": 23,
   "metadata": {
    "collapsed": false
   },
   "outputs": [
    {
     "name": "stdout",
     "output_type": "stream",
     "text": [
      "c_code_jupyter.ipynb\r\n"
     ]
    }
   ],
   "source": [
    "!ls"
   ]
  },
  {
   "cell_type": "markdown",
   "metadata": {},
   "source": [
    "We have now removed all files in our directory, except for the Ipython notebook, on which I'm preparing this tutorial. :)"
   ]
  },
  {
   "cell_type": "markdown",
   "metadata": {},
   "source": [
    "You can try other shell commands, too."
   ]
  },
  {
   "cell_type": "markdown",
   "metadata": {},
   "source": [
    "1. 'touch' - touch is a standard Unix command-line interface program which is used to update the access date and or modification date of a file or directory. In its default usage, it is the equivalent of creating or opening a file and saving it without any change to the file contents.\n",
    "\n",
    "2. 'pwd' - In Unix-like and some other operating systems, the pwd command (print working directory) writes the full pathname of the current working directory to the standard output. \n",
    "\n",
    "3. 'cp' - for copying files\n",
    "\n",
    "Here's a link listing and explaining some basic shell commands: https://www-xray.ast.cam.ac.uk/~jss/lecture/computing/notes/out/commands_basic/"
   ]
  },
  {
   "cell_type": "markdown",
   "metadata": {},
   "source": [
    "I humbly thank Dr. Dan Connors for all his support and guidance while preparing this tutorial."
   ]
  }
 ],
 "metadata": {
  "kernelspec": {
   "display_name": "Python 3",
   "language": "python",
   "name": "python3"
  },
  "language_info": {
   "codemirror_mode": {
    "name": "ipython",
    "version": 3
   },
   "file_extension": ".py",
   "mimetype": "text/x-python",
   "name": "python",
   "nbconvert_exporter": "python",
   "pygments_lexer": "ipython3",
   "version": "3.6.0"
  }
 },
 "nbformat": 4,
 "nbformat_minor": 2
}
